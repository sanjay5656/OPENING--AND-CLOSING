{
 "cells": [
  {
   "cell_type": "code",
   "execution_count": null,
   "id": "b64f6791",
   "metadata": {},
   "outputs": [],
   "source": [
    "# Import the necessary packages\n",
    "import cv2\n",
    "import numpy as np\n",
    "     "
   ]
  },
  {
   "cell_type": "code",
   "execution_count": null,
   "id": "114a697f",
   "metadata": {},
   "outputs": [],
   "source": [
    "# Create the text using cv2.putText\n",
    "\n",
    "img=np.zeros((100,400), dtype='uint8')\n",
    "font=cv2.FONT_HERSHEY_SIMPLEX\n",
    "cv2.putText(img,'SANJU',(5,70), font,2,(255),5,cv2.LINE_AA)\n",
    "cv2.imshow('Created image', img)\n",
    "cv2.waitKey(0)"
   ]
  },
  {
   "cell_type": "code",
   "execution_count": null,
   "id": "75682b8c",
   "metadata": {},
   "outputs": [],
   "source": [
    "# Create the structuring element\n",
    "struct_ele = np.ones((9, 9), np.uint8)"
   ]
  },
  {
   "cell_type": "code",
   "execution_count": null,
   "id": "2a27ac33",
   "metadata": {},
   "outputs": [],
   "source": [
    "# Use the Opening Operation\n",
    "opening = cv2.morphologyEx(img, cv2.MORPH_OPEN, struct_ele)\n",
    "cv2.imshow('Opening', opening)\n",
    "cv2.waitKey(0)\n"
   ]
  },
  {
   "cell_type": "code",
   "execution_count": null,
   "id": "9b6405f3",
   "metadata": {},
   "outputs": [],
   "source": [
    "# Use the Closing Operation\n",
    "closing = cv2.morphologyEx(img, cv2.MORPH_CLOSE, struct_ele)\n",
    "cv2.imshow('Closing', closing)\n",
    "cv2.waitKey(0)\n"
   ]
  }
 ],
 "metadata": {
  "kernelspec": {
   "display_name": "Python 3 (ipykernel)",
   "language": "python",
   "name": "python3"
  },
  "language_info": {
   "codemirror_mode": {
    "name": "ipython",
    "version": 3
   },
   "file_extension": ".py",
   "mimetype": "text/x-python",
   "name": "python",
   "nbconvert_exporter": "python",
   "pygments_lexer": "ipython3",
   "version": "3.9.12"
  }
 },
 "nbformat": 4,
 "nbformat_minor": 5
}
